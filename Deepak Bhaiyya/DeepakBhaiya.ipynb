{
  "nbformat": 4,
  "nbformat_minor": 0,
  "metadata": {
    "colab": {
      "provenance": []
    },
    "kernelspec": {
      "name": "python3",
      "display_name": "Python 3"
    },
    "language_info": {
      "name": "python"
    }
  },
  "cells": [
    {
      "cell_type": "code",
      "execution_count": null,
      "metadata": {
        "colab": {
          "base_uri": "https://localhost:8080/"
        },
        "id": "NxYTWbGaeT0e",
        "outputId": "a030a201-ec5b-4eaf-bb72-f6a2fe1b220a"
      },
      "outputs": [
        {
          "output_type": "stream",
          "name": "stdout",
          "text": [
            "10\n"
          ]
        },
        {
          "output_type": "execute_result",
          "data": {
            "text/plain": [
              "10"
            ]
          },
          "metadata": {},
          "execution_count": 14
        }
      ],
      "source": [
        "x=10\n",
        "print(x)\n",
        "x"
      ]
    },
    {
      "cell_type": "code",
      "source": [
        "x=10\n",
        "y=5\n",
        "z= x+y\n",
        "print(z)\n",
        "z"
      ],
      "metadata": {
        "colab": {
          "base_uri": "https://localhost:8080/"
        },
        "id": "5bkjZyG-gwla",
        "outputId": "ace4cb44-9e1d-4d2e-b7a6-667033a1aa9e"
      },
      "execution_count": null,
      "outputs": [
        {
          "output_type": "stream",
          "name": "stdout",
          "text": [
            "15\n"
          ]
        },
        {
          "output_type": "execute_result",
          "data": {
            "text/plain": [
              "15"
            ]
          },
          "metadata": {},
          "execution_count": 15
        }
      ]
    },
    {
      "cell_type": "code",
      "source": [
        "#    single comment - single line\n",
        "'''    multi line comment '''   '''comment study- multi line, single quotes three times starting and ending'''"
      ],
      "metadata": {
        "colab": {
          "base_uri": "https://localhost:8080/",
          "height": 35
        },
        "id": "Ghf2CGVshMuG",
        "outputId": "b9c081ca-7a67-448a-d325-6fcf306a2c26"
      },
      "execution_count": null,
      "outputs": [
        {
          "output_type": "execute_result",
          "data": {
            "text/plain": [
              "'    multi line comment comment study- multi line, single quotes three times starting and ending'"
            ],
            "application/vnd.google.colaboratory.intrinsic+json": {
              "type": "string"
            }
          },
          "metadata": {},
          "execution_count": 17
        }
      ]
    },
    {
      "cell_type": "code",
      "source": [
        "print (3**3)  # 3 power 2 , 3 ki power 2"
      ],
      "metadata": {
        "colab": {
          "base_uri": "https://localhost:8080/"
        },
        "id": "_lEpnZ44i3ty",
        "outputId": "2afc91eb-dd06-4633-9f6d-dfe54935ed35"
      },
      "execution_count": null,
      "outputs": [
        {
          "output_type": "stream",
          "name": "stdout",
          "text": [
            "27\n"
          ]
        }
      ]
    },
    {
      "cell_type": "code",
      "source": [
        "print(3**3) \n",
        "''' 3 ki power 2 \n",
        "here we multiply 3 * 3 * 3'''\n",
        "print(9-10)\n",
        "7+9"
      ],
      "metadata": {
        "colab": {
          "base_uri": "https://localhost:8080/"
        },
        "id": "1aQcEuB_jq_x",
        "outputId": "f808efff-50d9-41e7-cc54-7eb4a78ceaa9"
      },
      "execution_count": null,
      "outputs": [
        {
          "output_type": "stream",
          "name": "stdout",
          "text": [
            "27\n",
            "-1\n"
          ]
        },
        {
          "output_type": "execute_result",
          "data": {
            "text/plain": [
              "16"
            ]
          },
          "metadata": {},
          "execution_count": 31
        }
      ]
    },
    {
      "cell_type": "code",
      "source": [
        "print('Hello Deepak') # sting data type\n",
        "variableForString = 'deepak' # single quote is define for string\n",
        "print(variableForString)"
      ],
      "metadata": {
        "colab": {
          "base_uri": "https://localhost:8080/"
        },
        "id": "Yl5t84rvlFPQ",
        "outputId": "f7b3137d-b5d0-41bf-f933-d006e0acd01a"
      },
      "execution_count": null,
      "outputs": [
        {
          "output_type": "stream",
          "name": "stdout",
          "text": [
            "Hello Deepak\n",
            "deepak\n"
          ]
        }
      ]
    },
    {
      "cell_type": "code",
      "source": [
        "# VARIABLE\n",
        "\n",
        "variableForNumberSeven = 7\n",
        "number2 = 9\n",
        "string_1 = '45678'\n",
        "variableForString = 'deepak'\n",
        "age = 12  #12 is a number, so we not use single quotes\n",
        "name = 'dheeraj' #dheeraj is a String(Collection of characters), so we use single quotes\n",
        "string_1 = '45678' # this is not a Number, because it is in the single quotes, it is a String\n",
        "string_2 = 45678.5678\n",
        "u = '0' #comment this whole line then see the output / number is not required to define but string is required to define\n",
        "string_3 = u\n",
        "print(type('OOPS'))   #direct define to check the DataType \n",
        "print(type(45)) #direct define to check the DataType\n",
        "print(type(age))\n",
        "print(type(name))\n",
        "print(type(string_1))\n",
        "print(type(string_2))\n",
        "print(type(string_3))\n",
        "\n",
        "\n"
      ],
      "metadata": {
        "colab": {
          "base_uri": "https://localhost:8080/"
        },
        "id": "cXynurjomN7h",
        "outputId": "955c819f-049f-436f-a2a0-75c6f30ca26b"
      },
      "execution_count": null,
      "outputs": [
        {
          "output_type": "stream",
          "name": "stdout",
          "text": [
            "<class 'str'>\n",
            "<class 'int'>\n",
            "<class 'int'>\n",
            "<class 'str'>\n",
            "<class 'str'>\n",
            "<class 'float'>\n",
            "<class 'str'>\n"
          ]
        }
      ]
    },
    {
      "cell_type": "code",
      "source": [
        "# Maths / Calculation\n",
        "NumberOne = 20\n",
        "numberTwo = 12 # variable can not start with no. , and special charter, not including underscor(_)/ variable can start with underscor(_)\n",
        "print(NumberOne + numberTwo)\n",
        "print(NumberOne - numberTwo)\n",
        "print(NumberOne / numberTwo) # it gives float / deciamal value # simple division\n",
        "print(NumberOne // numberTwo) # it gives int value  # integer / floor division\n",
        "print(NumberOne % numberTwo) # it gives reminder\n",
        "print(NumberOne * numberTwo) # it gives multiply\n",
        "print(3 ** 4) # it gives no. of  power / 3 ki power 4"
      ],
      "metadata": {
        "colab": {
          "base_uri": "https://localhost:8080/"
        },
        "id": "0r1jVT-Qr1xn",
        "outputId": "513aee6e-9c23-4dba-80c8-ba18ca9cc726"
      },
      "execution_count": null,
      "outputs": [
        {
          "output_type": "stream",
          "name": "stdout",
          "text": [
            "32\n",
            "8\n",
            "1.6666666666666667\n",
            "1\n",
            "8\n",
            "240\n",
            "81\n"
          ]
        }
      ]
    },
    {
      "cell_type": "code",
      "source": [
        "# Complex Number - defined with j (capital/small)\n",
        "complexNumberOne = 2 + 2j\n",
        "complexNumberTwo = 10j\n",
        "complexNumberThree = 6j + 6j #we can also calculate complex numbers\n",
        "\n",
        "print (complexNumberOne)\n",
        "complexNumberTwo # if next command used than it is not print, because we can not use print function\n",
        "print (complexNumberTwo)\n",
        "print(complexNumberThree)\n",
        "\n",
        "print (type(complexNumberOne))\n",
        "print (type(complexNumberTwo))\n"
      ],
      "metadata": {
        "colab": {
          "base_uri": "https://localhost:8080/"
        },
        "id": "utgnpBNHxaOa",
        "outputId": "deab19e0-5d5d-4e78-8262-91e758ac5b34"
      },
      "execution_count": null,
      "outputs": [
        {
          "output_type": "stream",
          "name": "stdout",
          "text": [
            "(2+2j)\n",
            "10j\n",
            "12j\n",
            "<class 'complex'>\n",
            "<class 'complex'>\n"
          ]
        }
      ]
    },
    {
      "cell_type": "code",
      "source": [
        "# String - string can be inside the single , double, or triple quotes\n",
        "stringOne = 'message in text'\n",
        "stringTwo = 'Integer can\\'t be a String'  # if in mid line single quotes used backslash(\\), then it will ignore the single quotes\n",
        "stringThree = \"Integer can't be a String\"\n",
        "stringFour = '''message = \"Integer can't be a String\" '''  # if in line mid line single quotes used double/triple quotes, then it will ignore the single quotes\n",
        "# if in string we use double/triple quotes outside and single quotes inside, then it will print inside double/triple quotes content OR vise-versa\n",
        "\n",
        "print(stringFour)"
      ],
      "metadata": {
        "colab": {
          "base_uri": "https://localhost:8080/"
        },
        "id": "Vp5mHUAg04gT",
        "outputId": "c11a863d-cf5e-4826-a6fd-41b0a8485177"
      },
      "execution_count": null,
      "outputs": [
        {
          "output_type": "stream",
          "name": "stdout",
          "text": [
            "message = \"Integer can't be a String\" \n"
          ]
        }
      ]
    },
    {
      "cell_type": "code",
      "source": [
        "# String Manipulation\n",
        "stringOne = '''message \\t=\\t\"Integer can't be a String\" ''' # \\t is used for tab space (8 space)\n",
        "stringOne = '''message =\\n\"Integer can't be a String\" ''' #\\n is used for new line\n",
        "stringOne = '1\\n2\\n3\\n4\\n5' # \\n new each line\n",
        "stringOne = '1 2 3 4 5\\n' *3 # string multiply three time and used three new line \n",
        "\n",
        "\n",
        "print(stringOne)\n"
      ],
      "metadata": {
        "colab": {
          "base_uri": "https://localhost:8080/"
        },
        "id": "Y9Wp6ygH7yJ8",
        "outputId": "8778626f-c3ca-4fc3-c7c4-62ac37581e68"
      },
      "execution_count": null,
      "outputs": [
        {
          "output_type": "stream",
          "name": "stdout",
          "text": [
            "1 2 3 4 5\n",
            "1 2 3 4 5\n",
            "1 2 3 4 5\n",
            "\n"
          ]
        }
      ]
    },
    {
      "cell_type": "code",
      "source": [
        "# Formatted String - new version - python 3.6.10\n",
        "name = 'Dheeraj'\n",
        "age = 25\n",
        "print('Hellow {0}, your age is {1}'.format(name, age)) # .format is used for dynamic string (name and age), name index = 0 and age index = 1; it means index value is define nesseary"
      ],
      "metadata": {
        "colab": {
          "base_uri": "https://localhost:8080/"
        },
        "id": "-GLMl9mnBzYS",
        "outputId": "a16c9c40-8cee-4e65-96fb-d6fea988db5f"
      },
      "execution_count": null,
      "outputs": [
        {
          "output_type": "stream",
          "name": "stdout",
          "text": [
            "Hellow Dheeraj, your age is 25\n"
          ]
        }
      ]
    },
    {
      "cell_type": "code",
      "source": [
        "# Formatted String - new version - python 3.6.10\n",
        "name = 'Dheeraj'\n",
        "age = 25\n",
        "print(f'Hellow {name}, your age is {age}') # f = format for dynamic string (name and age)"
      ],
      "metadata": {
        "colab": {
          "base_uri": "https://localhost:8080/"
        },
        "id": "EsZNskLn_iK1",
        "outputId": "40d4fedd-798c-40c7-8ef9-803da12a9779"
      },
      "execution_count": null,
      "outputs": [
        {
          "output_type": "stream",
          "name": "stdout",
          "text": [
            "Hellow Dheeraj, your age is 25\n"
          ]
        }
      ]
    },
    {
      "cell_type": "code",
      "source": [
        "#built-in functions\n",
        "# print( dir(str) ) # dir () returns the variables and functions of a class/object(pre and self define functions, string, list, tuple, dictionaries) for string function\n",
        "# dir(int) # returns the variables and functions of a class/object(pre and self define functions, string, list, tuple, dictionaries) for integer function\n",
        "# print(help('format')) # help () = returns the defination and syntax of the class /object(pre and self define functions, string, list, tuple, dictionaries) for format function\n",
        "# print(help('type')) # help () = returns the defination and syntax of the class/object(pre and self define functions, string, list, tuple, dictionaries) for type function\n",
        "# a = (1,0) # when sum the value required two no.or more\n",
        "# x = sum(a,10)\n",
        "# print(x)\n",
        "# print(help('sum'))\n",
        "# print(help('hash'))\n",
        "# print(hash(str)) # returning unique hash code for determining the variable/class/object uniqueness/unique number\n",
        "\n",
        "stringVariable = 5.7 # self define variable\n",
        "print(dir(stringVariable)) # OR dir(str) OR print(dir(type(stringVariable))) # returns the self-define function of class\n",
        "print(type(stringVariable)) # returns the data type of variable/function/class\n",
        "print(type(float)) # returns the data type of variable/function/class\n",
        "print(hash(stringVariable)) # example of hash"
      ],
      "metadata": {
        "colab": {
          "base_uri": "https://localhost:8080/"
        },
        "id": "eQqU_THmblm_",
        "outputId": "ae2797d7-8f04-4dee-bc9b-8961807ffdde"
      },
      "execution_count": null,
      "outputs": [
        {
          "output_type": "stream",
          "name": "stdout",
          "text": [
            "['__abs__', '__add__', '__bool__', '__ceil__', '__class__', '__delattr__', '__dir__', '__divmod__', '__doc__', '__eq__', '__float__', '__floor__', '__floordiv__', '__format__', '__ge__', '__getattribute__', '__getformat__', '__getnewargs__', '__gt__', '__hash__', '__init__', '__init_subclass__', '__int__', '__le__', '__lt__', '__mod__', '__mul__', '__ne__', '__neg__', '__new__', '__pos__', '__pow__', '__radd__', '__rdivmod__', '__reduce__', '__reduce_ex__', '__repr__', '__rfloordiv__', '__rmod__', '__rmul__', '__round__', '__rpow__', '__rsub__', '__rtruediv__', '__setattr__', '__setformat__', '__sizeof__', '__str__', '__sub__', '__subclasshook__', '__truediv__', '__trunc__', 'as_integer_ratio', 'conjugate', 'fromhex', 'hex', 'imag', 'is_integer', 'real']\n",
            "<class 'float'>\n",
            "<class 'type'>\n",
            "1614090106449586181\n"
          ]
        }
      ]
    },
    {
      "cell_type": "code",
      "source": [
        "#built in function\n",
        "stringVariableOne = 'adGJ 123454443 '\n",
        "print(stringVariableOne.upper()) # to change lower case -> upper case character\n",
        "print(stringVariableOne.lower()) # to change upper case -> lower case character\n",
        "print(stringVariableOne.swapcase()) # to change upper case -> lower case and lower case -> upper case character\n",
        "print(stringVariableOne.count('4')) # count the specific sub-string(specific value/ character)\n",
        "print(stringVariableOne.find('4')) # find the specific value/ character/ substring\n",
        "print(stringVariableOne.find('4', 9)) # find the specific value/ character/ substring # Syntax - StringName.find('sub-string value', index value)\n",
        "print(stringVariableOne.replace('4', '9')) # replace the old value to new value # Syntax- StringName.replace('old value', 'new value'))\n",
        "print(stringVariableOne.replace('4', '9', 2)) # Syntax- StringName.replace('old value', 'new value', number of changes(Optional))"
      ],
      "metadata": {
        "colab": {
          "base_uri": "https://localhost:8080/"
        },
        "id": "fncXcbEMm-7h",
        "outputId": "b35164a2-9754-471a-ce50-5888f0530473"
      },
      "execution_count": null,
      "outputs": [
        {
          "output_type": "stream",
          "name": "stdout",
          "text": [
            "ADGJ 123454443 \n",
            "adgj 123454443 \n",
            "ADgj 123454443 \n",
            "2\n",
            "8\n",
            "10\n",
            "adGJ 123959993 \n",
            "adGJ 123959443 \n"
          ]
        }
      ]
    },
    {
      "cell_type": "code",
      "source": [
        "# to take user input\n",
        "userInput = input('enter a number: ')   # by defaut it takes input in String DataType\n",
        "print(userInput)\n",
        "print(type(userInput))  # by defaut it takes input in String DataType\n",
        "\n",
        "integerUserInputOne = int(input('Enter a Number: '))  # to convert to string to interger data type we use \"int()\". #this is called Type Cast\n",
        "print(integerUserInputOne)\n",
        "print(type(integerUserInputOne))\n",
        "\n",
        "integerUserInputTwo = float(input('Enter a Number: '))  # to convert to string to interger data type we use \"int()\". #this is called Type Cast\n",
        "print(integerUserInputTwo)\n",
        "print(type(integerUserInputTwo))"
      ],
      "metadata": {
        "colab": {
          "base_uri": "https://localhost:8080/"
        },
        "id": "rWH-aRfTtWhm",
        "outputId": "797e7086-b2c4-4a2a-81f9-812fcc8225f4"
      },
      "execution_count": null,
      "outputs": [
        {
          "output_type": "stream",
          "name": "stdout",
          "text": [
            "enter a number: g\n",
            "g\n",
            "<class 'str'>\n",
            "Enter a Number: 9\n",
            "9\n",
            "<class 'int'>\n",
            "Enter a Number: 9\n",
            "9.0\n",
            "<class 'float'>\n"
          ]
        }
      ]
    },
    {
      "cell_type": "code",
      "source": [
        "# simple form example\n",
        "name = input ('enter your name:- ')\n",
        "age = int(input ('enter your age:- '))\n",
        "height = float(input('enter your height:- '))\n",
        "\n",
        "print (f'Name: {name}\\nAge: {age}')\n",
        "print(f'Height: {height}')\n",
        "print('Your Data is submitted')"
      ],
      "metadata": {
        "colab": {
          "base_uri": "https://localhost:8080/"
        },
        "id": "PiH48oMswawc",
        "outputId": "4db837a7-cbe1-465f-f046-504e24b12132"
      },
      "execution_count": null,
      "outputs": [
        {
          "output_type": "stream",
          "name": "stdout",
          "text": [
            "enter your name:- y\n",
            "enter your age:- 8\n",
            "enter your height:- 5\n",
            "Name: y\n",
            "Age: 8\n",
            "Height: 5.0\n",
            "Your Data is submitted\n"
          ]
        }
      ]
    },
    {
      "cell_type": "code",
      "source": [
        "# multiple inputs of same DataType\n",
        "listVariable = list(map(str, input('Enter series of Random Numbers: ').split()))\n",
        "# list() -> change the value in list type\n",
        "# map() - > change the value in map structured format\n",
        "# .split() -> by default it is split from space but we can specify the spliting method # Styntax - .split('.') - it can split from dot \".\", comma, space or any character also\n",
        "\n",
        "print(listVariable)"
      ],
      "metadata": {
        "colab": {
          "base_uri": "https://localhost:8080/"
        },
        "id": "2b8mI0Bi3exZ",
        "outputId": "8e3e6972-c021-45e4-f183-269bcb090c32"
      },
      "execution_count": null,
      "outputs": [
        {
          "output_type": "stream",
          "name": "stdout",
          "text": [
            "Enter series of Random Numbers: 1 2 4 6 8\n",
            "['1', '2', '4', '6', '8']\n"
          ]
        }
      ]
    },
    {
      "cell_type": "code",
      "source": [
        "#List - list defined by square brackets \"[ ]\"\n",
        "listVariable = ['21', 5 , 5.8 ] # multiple data types can store in list\n",
        "print ('Multi DataType List:- ',listVariable)\n",
        "\n",
        "listVariable = [9,5 , 5.8, 10, 2] # Original order\n",
        "\n",
        "print('Original List, before sorting:-',listVariable)\n",
        "\n",
        "listVariable.sort() #It override the Original List. By default sorting order is ascending.\n",
        "\n",
        "print('After sorting in Ascending order:- ', listVariable)\n",
        "\n",
        "listVariable.sort(reverse=True) # now the sorting order is descending.  # Syntax - listName.sort(reverse = True/False , key=myFunction (according to function))\n",
        "print('After sorting in Descending order:- ' , listVariable)"
      ],
      "metadata": {
        "colab": {
          "base_uri": "https://localhost:8080/"
        },
        "id": "bLnZ44x25V8g",
        "outputId": "a53e67b7-86e7-434b-d57c-0b85885ec1a9"
      },
      "execution_count": null,
      "outputs": [
        {
          "output_type": "stream",
          "name": "stdout",
          "text": [
            "Multi DataType List:-  ['21', 5, 5.8]\n",
            "Original List, before sorting:- [9, 5, 5.8, 10, 2]\n",
            "After sorting in Ascending order:-  [2, 5, 5.8, 9, 10]\n",
            "After sorting in Descending order:-  [10, 9, 5.8, 5, 2]\n"
          ]
        }
      ]
    },
    {
      "cell_type": "code",
      "source": [
        "#Access the List\n",
        "listOne = [9, 'Hellow' , 5.8, 'Deepak', 2]\n",
        "\n",
        "print(listOne) # access all list elements\n",
        "# NOTE:- in python slicing (alag alag element) is implemented by colon \":\"\n",
        "print(listOne[:]) # access all list elements\n",
        "print(listOne[1]) # access 1st index element(access the second element)\n",
        "print(listOne[1:4]) # access the elements of list from index 1 to 3 (3+1) = (n+1)\n",
        "print(listOne[0:5]) # access the elements of list from index 0 to 4 (4+1) = (n+1) / (last index + 1) = 5(4+1)\n",
        "\n",
        "# NOTE:- in serial order indexing starts from 0 to n and in reverse order indexing starts from -1..-2..-3 to -n\n",
        "\n",
        "print(listOne[0:-2]) # access the elements from index 0 to 2 (in reversing order -2)\n",
        "print(listOne[-4]) # in reversing order index -4 = 'Hellow', means in order index 1\n",
        "print(listOne * 3)\n",
        "\n",
        "\n"
      ],
      "metadata": {
        "colab": {
          "base_uri": "https://localhost:8080/"
        },
        "id": "y-Gzv9xWG1G9",
        "outputId": "927d9663-11b8-441e-d6c1-ef7ccd269b4c"
      },
      "execution_count": null,
      "outputs": [
        {
          "output_type": "stream",
          "name": "stdout",
          "text": [
            "[9, 'Hellow', 5.8, 'Deepak', 2]\n",
            "[9, 'Hellow', 5.8, 'Deepak', 2]\n",
            "Hellow\n",
            "['Hellow', 5.8, 'Deepak']\n",
            "[9, 'Hellow', 5.8, 'Deepak', 2]\n",
            "[9, 'Hellow', 5.8]\n",
            "Hellow\n",
            "[9, 'Hellow', 5.8, 'Deepak', 2, 9, 'Hellow', 5.8, 'Deepak', 2, 9, 'Hellow', 5.8, 'Deepak', 2]\n"
          ]
        }
      ]
    },
    {
      "cell_type": "code",
      "source": [
        "# Slicing Practicing - Syntax listName[start index : end index : difference/gap/jump] - gap is by default is 1\n",
        "listOne = [0,1,2,3,4,5,6,7,8]\n",
        "print(listOne[0:9]) # print index 0 to 8+1(9)\n",
        "print(listOne[:]) # print all elements\n",
        "print(listOne[::]) # print all elements\n",
        "\n",
        "print(listOne[1:1:1]) # print empty list (no range)\n",
        "print(listOne[9:10]) # print empty list(out of range)\n",
        "\n",
        "print(listOne[2:7]) # print index 2 to 6+1(7)\n",
        "\n",
        "print(listOne[2:8:2]) # print index 2 to 7+1(8) with jump 2 (jump start from start index)\n",
        "print(listOne[2:8:3]) # print index 2 to 7+1(8) with jump 3 (jump start from start index)\n",
        "print(listOne[2:8:6]) # print index 2 to 7+1(8) with jump 6 (jump start from start index)\n",
        "print(listOne[2:9:6]) # print index 2 to 8+1(9) with jump 6 (jump start from start index)\n",
        "\n",
        "print(listOne[:1:-2]) # OR print(listOne[8:1:-2]) # start to reverse order\n",
        "print(listOne[::2]) # access in serial order with jump 2\n",
        "\n",
        "print(listOne[::-2]) # access in reverse order with jump -2"
      ],
      "metadata": {
        "colab": {
          "base_uri": "https://localhost:8080/"
        },
        "id": "myX2zMsU4ZtY",
        "outputId": "f8d36182-ba4a-420d-ea23-df03691003bc"
      },
      "execution_count": null,
      "outputs": [
        {
          "output_type": "stream",
          "name": "stdout",
          "text": [
            "[0, 1, 2, 3, 4, 5, 6, 7, 8]\n",
            "[0, 1, 2, 3, 4, 5, 6, 7, 8]\n",
            "[0, 1, 2, 3, 4, 5, 6, 7, 8]\n",
            "[]\n",
            "[]\n",
            "[2, 3, 4, 5, 6]\n",
            "[2, 4, 6]\n",
            "[2, 5]\n",
            "[2]\n",
            "[2, 8]\n",
            "[8, 6, 4, 2]\n",
            "[0, 2, 4, 6, 8]\n",
            "[8, 6, 4, 2, 0]\n"
          ]
        }
      ]
    },
    {
      "cell_type": "code",
      "source": [
        "# List inside List\n",
        "\n",
        "listVariable = ['kaal', [1,2,'76'], 90, 4] \n",
        "print(listVariable[1][1]) # first big braket[] in first list index number, and second big braket [] in second list index number \n",
        "\n",
        "listVariableTwo = [6, [90,80,70], 5, [60,50,40]]\n",
        "print(listVariableTwo[3][0])  \n",
        "\n",
        "listVariableTwo = [6, [90,80,['abc','def'], 70], 5, [60,50,40]]\n",
        "print(listVariableTwo[1][2][1])\n",
        "# first big braket[] in first list index number, and second big braket [] in second list index number , and second list inside third big braket [] in third list index number.  \n"
      ],
      "metadata": {
        "colab": {
          "base_uri": "https://localhost:8080/"
        },
        "id": "Vs3CpAK6qoFe",
        "outputId": "25cd1a7e-6006-4acc-a09f-7cf93c86d69b"
      },
      "execution_count": null,
      "outputs": [
        {
          "output_type": "stream",
          "name": "stdout",
          "text": [
            "2\n",
            "60\n",
            "def\n"
          ]
        }
      ]
    },
    {
      "cell_type": "code",
      "source": [
        "# List Manipulation and Functions\n",
        "listVariableOne = ['kaal', [1,2,'76'], 90, 4] \n",
        "listVariableTwo = [6, [90,80,70], 5, [60,50,40]]\n",
        "\n",
        "# print(listVariableOne + listVariableTwo) # no further use\n",
        "listVariableThree = listVariableOne + listVariableTwo # marge the two/or more list in one list \n",
        "print(listVariableThree) # for further use\n",
        "\n",
        "print(listVariableOne.pop(1)) #remove the element of index 1()\n",
        "listVariableOne.pop() # if .pop() used then it remove the last element \n",
        "print(listVariableOne)\n",
        "\n",
        "print(listVariableThree)\n",
        "print(listVariableThree[5].pop(1)) # remove the list inside list's element"
      ],
      "metadata": {
        "colab": {
          "base_uri": "https://localhost:8080/"
        },
        "id": "XQ4tuqaJt19w",
        "outputId": "6936908b-d445-4f82-fac4-19e2b9efa655"
      },
      "execution_count": null,
      "outputs": [
        {
          "output_type": "stream",
          "name": "stdout",
          "text": [
            "['kaal', [1, 2, '76'], 90, 4, 6, [90, 80, 70], 5, [60, 50, 40]]\n",
            "[1, 2, '76']\n",
            "['kaal', 90]\n",
            "['kaal', [1, 2, '76'], 90, 4, 6, [90, 80, 70], 5, [60, 50, 40]]\n",
            "80\n",
            "['kaal', 90, [6, [90, 70], 5, [60, 50, 40]]]\n"
          ]
        }
      ]
    },
    {
      "cell_type": "code",
      "source": [
        "# List Manipulation and Functions\n",
        "listVariableOne = ['kaal', [1,2,'76'], 90, 4] \n",
        "listVariableTwo = [6, [90,80,70], 5, [60,50,40]]\n",
        "\n",
        "print('Length of List One:-',len(listVariableOne)) # returns the length of the list\n",
        "listVariableOne.append(listVariableTwo) # .append -> add whole list at last of the original list and effect the original list and second list is not effected \n",
        "print(listVariableOne)\n",
        "print(listVariableTwo)\n",
        "print('Length of List One:-',len(listVariableOne)) # returns the new length of the list\n",
        "listVariableOne.append(99)\n",
        "print(listVariableOne)"
      ],
      "metadata": {
        "colab": {
          "base_uri": "https://localhost:8080/"
        },
        "id": "fYV5Y6wT1EqV",
        "outputId": "9b4b1e99-3014-4045-c243-9f212337b7f4"
      },
      "execution_count": null,
      "outputs": [
        {
          "output_type": "stream",
          "name": "stdout",
          "text": [
            "Length of List One:- 4\n",
            "['kaal', [1, 2, '76'], 90, 4, [6, [90, 80, 70], 5, [60, 50, 40]]]\n",
            "[6, [90, 80, 70], 5, [60, 50, 40]]\n",
            "Length of List One:- 5\n",
            "['kaal', [1, 2, '76'], 90, 4, [6, [90, 80, 70], 5, [60, 50, 40]], 99]\n"
          ]
        }
      ]
    },
    {
      "cell_type": "code",
      "source": [
        "# List Manipulation and Functions\n",
        "listVariableOne = ['kaal', [1,2,'76'], 90, 4] \n",
        "listVariableTwo = [6, [90,80,70], 5, [60,50,40]]\n",
        "\n",
        "print('Length of List One:-',len(listVariableOne))\n",
        "\n",
        "print(listVariableOne)\n",
        "\n",
        "listVariableOne.extend(listVariableTwo) # .extend() -> add list as element wise\n",
        "\n",
        "print(listVariableOne)\n",
        "print(listVariableTwo)\n",
        "\n",
        "listVariableOne.extend([5]) # .extend() -> add only as a list, not the single element\n",
        "print(listVariableOne)\n"
      ],
      "metadata": {
        "colab": {
          "base_uri": "https://localhost:8080/"
        },
        "id": "ppa2uLQs2faL",
        "outputId": "219ec1ce-8fec-4d18-91a2-f21369a5d504"
      },
      "execution_count": null,
      "outputs": [
        {
          "output_type": "stream",
          "name": "stdout",
          "text": [
            "Length of List One:- 4\n",
            "['kaal', [1, 2, '76'], 90, 4]\n",
            "['kaal', [1, 2, '76'], 90, 4, 6, [90, 80, 70], 5, [60, 50, 40]]\n",
            "[6, [90, 80, 70], 5, [60, 50, 40]]\n",
            "['kaal', [1, 2, '76'], 90, 4, 6, [90, 80, 70], 5, [60, 50, 40], 5]\n"
          ]
        }
      ]
    },
    {
      "cell_type": "code",
      "source": [
        "# List Manipulation and Functions\n",
        "listVariableOne = ['kaal', [1,2,'76'], 90, 4]\n",
        "print('Count 90:',listVariableOne.count(90)) # .count -> its count the number of repetation of the element\n",
        "\n",
        "\n",
        "listVariableTwo = [6, [90,80,70], 5, [60,50,40]]\n",
        "print('Count 80:',listVariableTwo[1].count(80)) # # .count -> its count the number of repetation of the element in list inside list\n"
      ],
      "metadata": {
        "colab": {
          "base_uri": "https://localhost:8080/"
        },
        "id": "35uSf84M5k12",
        "outputId": "e94fc19b-64e6-4bdd-9a82-4e8bc93cf44e"
      },
      "execution_count": null,
      "outputs": [
        {
          "output_type": "stream",
          "name": "stdout",
          "text": [
            "Count 90: 1\n",
            "Count 80: 1\n",
            "['kaal', [1, 2, '76'], 90, 4]\n",
            "['Deepak', [1, 2, '76'], 90, 4]\n",
            "['Deepak', [1, 'Dheeraj', '76'], 90, 4]\n"
          ]
        }
      ]
    },
    {
      "cell_type": "code",
      "source": [
        "# to change the specific list element\n",
        "listVariableOne = ['kaal', [1,2,'76'], 90, 4]\n",
        "print(listVariableOne)\n",
        "listVariableOne[0] = 'Deepak' # to change the specific index element\n",
        "print(listVariableOne)\n",
        "\n",
        "listVariableOne[1][1] = 'Dheeraj' # to change the specific list inside the list element.\n",
        "print(listVariableOne)\n",
        "\n",
        "listVariableOne[1][1] = [70,40,50] # to change the specific list inside the list element. And we can change/add the list\n",
        "print(listVariableOne)"
      ],
      "metadata": {
        "colab": {
          "base_uri": "https://localhost:8080/"
        },
        "id": "h-9AHLmwCskZ",
        "outputId": "843c7932-8963-49d7-f451-2c540c1d3361"
      },
      "execution_count": null,
      "outputs": [
        {
          "output_type": "stream",
          "name": "stdout",
          "text": [
            "['kaal', [1, 2, '76'], 90, 4]\n",
            "['Deepak', [1, 2, '76'], 90, 4]\n",
            "['Deepak', [1, 'Dheeraj', '76'], 90, 4]\n",
            "['Deepak', [1, [70, 40, 50], '76'], 90, 4]\n"
          ]
        }
      ]
    },
    {
      "cell_type": "code",
      "source": [
        "# Tuple\n",
        "tupleVariable = (3, 5, 9, 90)\n",
        "print(tupleVariable) # access tuple value\n",
        "print(tupleVariable[3]) # access specific tuple value \n",
        "\n",
        "print(tupleVariable[1:3]) # access element through slicing \n",
        "\n",
        "#tupleVariable[2] = 1  #'tuple' object does not support item replcement/changing of a specific element\n",
        "\n",
        "tupleVariable = (5, 0, 6, 80) # But we can assign new tuple to that tuple variable(old variable).\n",
        "\n",
        "print(tupleVariable)\n",
        "\n"
      ],
      "metadata": {
        "colab": {
          "base_uri": "https://localhost:8080/"
        },
        "id": "G1tyP97EAHfJ",
        "outputId": "6ffa8d6d-dee4-4b17-f385-477f896bacd1"
      },
      "execution_count": null,
      "outputs": [
        {
          "output_type": "stream",
          "name": "stdout",
          "text": [
            "(3, 5, 9, 90)\n",
            "(5, 9)\n",
            "(5, 0, 6, 80)\n"
          ]
        }
      ]
    },
    {
      "cell_type": "code",
      "source": [
        "# Tuple\n",
        "tupleVariableOne = (3, 5, 9, '90')\n",
        "tupleVariableTwo = (5, 0, 6, 80, 0)\n",
        "\n",
        "print(tupleVariableOne * 3 ) # multiple tuples\n",
        "\n",
        "print (tupleVariableTwo.count(0)) # count the specific element "
      ],
      "metadata": {
        "colab": {
          "base_uri": "https://localhost:8080/"
        },
        "id": "z-LkEJMoGMei",
        "outputId": "a458a353-82eb-415d-a247-223c369e307c"
      },
      "execution_count": 3,
      "outputs": [
        {
          "output_type": "stream",
          "name": "stdout",
          "text": [
            "(3, 5, 9, '90', 3, 5, 9, '90', 3, 5, 9, '90')\n",
            "2\n"
          ]
        }
      ]
    },
    {
      "cell_type": "code",
      "source": [
        "# Unpacking of Tuple\n",
        "x = y = z = 4 # assign same value in tuple\n",
        "\n",
        "print(x)\n",
        "print(y)\n",
        "print(z)\n",
        "\n",
        "\n",
        "tupleVariableOne = (3, 5, 9, 90)\n",
        "\n",
        "w, x, y, z = tupleVariableOne # simple assign tuple, if no. of variable and no. of elements are equal\n",
        "print(w)\n",
        "print(x)\n",
        "print(y)\n",
        "print(z)\n",
        "\n",
        "tupleVariableOne = (3, 5, 9, 90, 9)\n",
        "\n",
        "w, x, *y, z = tupleVariableOne # if elements is more than variable then we can use the star/asterisk \"*\" with particular variable\n",
        "print(w)\n",
        "print(x)\n",
        "print(y)\n",
        "print(z)\n",
        "\n",
        "# tupleVariableOne = (3, 5, 9, 90)\n",
        "\n",
        "# # w, x, y, z, a = tupleVariableOne  # error\n",
        "# print(w)\n",
        "# print(x)\n",
        "# print(y)\n",
        "# print(z)"
      ],
      "metadata": {
        "colab": {
          "base_uri": "https://localhost:8080/"
        },
        "id": "IJRrP3GJH7kP",
        "outputId": "e901a30c-2715-4fe8-f290-b4128fccfa47"
      },
      "execution_count": null,
      "outputs": [
        {
          "output_type": "stream",
          "name": "stdout",
          "text": [
            "4\n",
            "4\n",
            "4\n",
            "3\n",
            "5\n",
            "9\n",
            "90\n",
            "3\n",
            "5\n",
            "[9, 90]\n",
            "9\n"
          ]
        }
      ]
    },
    {
      "cell_type": "code",
      "source": [
        "#Find tuple element index\n",
        "tupleVariableOne = (3, 5, 9, 90)\n",
        "print (tupleVariableOne.index(9)) # .index() -> index small bracket inside the value of elemnent and find the index location\n"
      ],
      "metadata": {
        "colab": {
          "base_uri": "https://localhost:8080/"
        },
        "id": "I2aH6fdYJuQ4",
        "outputId": "3b61ca76-ae96-4304-8c81-59a2b4700e19"
      },
      "execution_count": null,
      "outputs": [
        {
          "output_type": "stream",
          "name": "stdout",
          "text": [
            "2\n",
            "3\n",
            "5\n",
            "9\n",
            "90\n"
          ]
        }
      ]
    },
    {
      "cell_type": "code",
      "source": [
        "# Dictionary - key - value pair\n",
        "\n",
        "dictionaryVariableOne = {\n",
        "    1 : 'One',\n",
        "    2: 'Two',\n",
        "    3: 'Three',\n",
        "    4: 'Four'\n",
        "}\n",
        "# frist starting mid braket \" { } \"; left -> key, right -> value; both key and values divuded by/mid used the colon, indexing  applies in value.\n",
        "# key used the only one string/value/character/number at a time only.\n",
        "#value can be multiple or one used at a time.\n",
        "\n",
        "print(dictionaryVariableOne)\n",
        "print(dictionaryVariableOne[2]) # we can access the specific value with key. 1st bracket is used the key. \n",
        "print(dictionaryVariableOne[4][2]) # we can access the specific value with key. 1st bracket is used the key, and second bracket is index value of the element.\n",
        "\n",
        "dictionaryVariableTwo = {\n",
        "    'Name' : ['Deepak','Dheeraj', 'Prakhar', 'Sameer'],\n",
        "    'Age': [33,25,23,22],\n",
        "    'Gender': ['Male','Male','Male','Male'],\n",
        "    'Height': [178,176,177,174]\n",
        "}\n",
        "\n",
        "print(dictionaryVariableTwo)\n",
        "print(dictionaryVariableTwo['Height'])  # we can access the specific value with key. 1st bracket is used the key. \n",
        "print(dictionaryVariableTwo['Height'][3]) # we can access the specific value with key. 1st bracket is used the key, and second bracket is index value of the element.\n",
        "\n"
      ],
      "metadata": {
        "id": "Gvim1sYXMxnx",
        "colab": {
          "base_uri": "https://localhost:8080/"
        },
        "outputId": "30d5488c-27ef-4822-9b73-367f43757449"
      },
      "execution_count": 14,
      "outputs": [
        {
          "output_type": "stream",
          "name": "stdout",
          "text": [
            "{1: 'One', 2: 'Two', 3: 'Three', 4: 'Four'}\n",
            "Two\n",
            "u\n",
            "{'Name': ['Deepak', 'Dheeraj', 'Prakhar', 'Sameer'], 'Age': [33, 25, 23, 22], 'Gender': ['Male', 'Male', 'Male', 'Male'], 'Height': [178, 176, 177, 174]}\n",
            "[178, 176, 177, 174]\n",
            "174\n"
          ]
        }
      ]
    },
    {
      "cell_type": "code",
      "source": [
        "#Types of Collection\n",
        "\n",
        "# List\n",
        "listOne = [9, 'Hellow' , 5.8, 'Deepak', 2] # List - Multiple Values can store, duplicates allowed, defined from square brackets \"[ ]\"\n",
        "print(type(listOne))\n",
        "print(listOne)\n",
        "\n",
        "# Tuple\n",
        "tupleVariable = (1,5,9,'9',9,1,6,2) # Tuple - Multiple Values can store, duplicates allowed, defined from small/round brackets \"( )\"\n",
        "print(type(tupleVariable))\n",
        "print(tupleVariable)\n",
        "\n",
        "# Set\n",
        "setOne = {1,5,9,'9',9,1,6,2} # Set - Multiple Values can store, duplicates NOT allowed, print only unique, defined from Curly brackets \"{ }\"\n",
        "print(type(setOne))\n",
        "print(setOne)\n",
        "\n",
        "# Dictionay\n",
        "detailsDictionary = {\n",
        "    'Name' : ['Deepak','Dheeraj', 'Prakhar', 'Sameer'],\n",
        "    'Age': [33,25,23,22],\n",
        "    'Gender': ['Male','Male','Male','Male'],\n",
        "    'Height': [178,176,177,174]    # in last data/ value we can not used comma. We use comma only when we have data at next line.\n",
        "}\n",
        "print(type(detailsDictionary))\n",
        "print(detailsDictionary)"
      ],
      "metadata": {
        "colab": {
          "base_uri": "https://localhost:8080/"
        },
        "id": "HMtEriL3DICA",
        "outputId": "a258fd57-466a-4cc0-96c9-052f48e82999"
      },
      "execution_count": 18,
      "outputs": [
        {
          "output_type": "stream",
          "name": "stdout",
          "text": [
            "<class 'list'>\n",
            "[9, 'Hellow', 5.8, 'Deepak', 2]\n",
            "<class 'tuple'>\n",
            "(1, 5, 9, '9', 9, 1, 6, 2)\n",
            "<class 'set'>\n",
            "{1, 2, 5, 6, 9, '9'}\n",
            "<class 'dict'>\n",
            "{'Name': ['Deepak', 'Dheeraj', 'Prakhar', 'Sameer'], 'Age': [33, 25, 23, 22], 'Gender': ['Male', 'Male', 'Male', 'Male'], 'Height': [178, 176, 177, 174]}\n"
          ]
        }
      ]
    },
    {
      "cell_type": "code",
      "source": [
        "# Conditional statement \"if\"\n",
        "# Block starts from colon \" : \", and a block is not used empty, it will give error if block is empty.\n",
        "aVar = 5\n",
        "\n",
        "if(aVar > 5):                              # only if condition used ; at last colan \" : \" is necessary used\n",
        "  print(aVar,'is greater than 5')          # one spacing/tab-space is necessary for next command\n",
        "\n",
        "if(aVar < 6):\n",
        "  print(aVar,'is less than 6')\n",
        "\n",
        "if(aVar == 5):\n",
        "  print(aVar,'is equal to 5')\n",
        "\n",
        "print('FINISH')\n"
      ],
      "metadata": {
        "colab": {
          "base_uri": "https://localhost:8080/"
        },
        "id": "t3ZHl_UP49Nf",
        "outputId": "3301303c-91b2-4923-b003-0a0b697d93cb"
      },
      "execution_count": 38,
      "outputs": [
        {
          "output_type": "stream",
          "name": "stdout",
          "text": [
            "5 is less than 6\n",
            "FINISH\n"
          ]
        }
      ]
    },
    {
      "cell_type": "code",
      "source": [
        "# Conditional statement - nested if\n",
        "# Block starts from colon \" : \", and a block is not used empty, it will give error if block is empty.\n",
        "\n",
        "aVar = 5\n",
        "\n",
        "if(aVar > 5):                              # only if condition used ; at last colan \" : \" is necessary used\n",
        "  print(aVar,'is greater than 5')          # one spacing/tab-space is necessary for next command\n",
        "\n",
        "if(aVar < 6):\n",
        "  print(aVar,'is less than 6')\n",
        "  if(aVar == 5):                    # here one spacing is necessary for according to next command, if we use \"if\" condition\n",
        "    print(aVar,'is equal to 5')\n",
        "\n",
        "print('FINISH')"
      ],
      "metadata": {
        "colab": {
          "base_uri": "https://localhost:8080/"
        },
        "id": "gaD-qZgP-wzA",
        "outputId": "a6b2d867-33f7-45fe-e557-c658102962b1"
      },
      "execution_count": 48,
      "outputs": [
        {
          "output_type": "stream",
          "name": "stdout",
          "text": [
            "5 is less than 6\n",
            "5 is equal to 5\n",
            "FINISH\n"
          ]
        }
      ]
    },
    {
      "cell_type": "code",
      "source": [
        "# Conditional statement - if-else\n",
        "age = 20\n",
        "\n",
        "if(age < 18):                                    # two times are conditions check\n",
        "  print('not valid for vote')\n",
        "if (age >= 18):\n",
        "  print ('valid for vote')\n",
        "\n",
        "#------------------- both types are used for conditions ----------------------------------------\n",
        "\n",
        "if (age < 18):                      # one time is condition check\n",
        "  print('not valid for vote')\n",
        "else:\n",
        "  print ('valid for vote')\n",
        "\n"
      ],
      "metadata": {
        "colab": {
          "base_uri": "https://localhost:8080/"
        },
        "id": "3pPYemMqBHUl",
        "outputId": "d5a29c19-b115-4a80-c377-363ce9e4a872"
      },
      "execution_count": 57,
      "outputs": [
        {
          "output_type": "stream",
          "name": "stdout",
          "text": [
            "valid for vote\n",
            "valid for vote\n"
          ]
        }
      ]
    },
    {
      "cell_type": "code",
      "source": [
        "# Conditional statement - if-else-if\n",
        "marks = 75\n",
        "\n",
        "if(marks < 75):\n",
        "  print('marks is good,  grade A')\n",
        "elif(75 <= marks and marks <=100):  # we can use two condition with 'and' keyword/operator as used two types (and / &); (or / |) and more operators are used.\n",
        "  #\"else if(cond)\" are not used  so we can use \"elif()\" \n",
        "  print ('marks is good , grade A+')\n",
        "else:\n",
        "  print('marks is good , grade B')"
      ],
      "metadata": {
        "colab": {
          "base_uri": "https://localhost:8080/"
        },
        "id": "BgvZhuuPEiI7",
        "outputId": "d549666c-b0be-4bd9-d74e-9d3feb865f9c"
      },
      "execution_count": 83,
      "outputs": [
        {
          "output_type": "stream",
          "name": "stdout",
          "text": [
            "marks is good , grade A+\n"
          ]
        }
      ]
    },
    {
      "cell_type": "code",
      "source": [
        "marks = 55\n",
        "if(marks < 99):\n",
        "  pass  # \"pass\" is used for debugging and if we use empty block. pass do nothing.\n",
        "  print('OOP')\n",
        "print('Completed')"
      ],
      "metadata": {
        "colab": {
          "base_uri": "https://localhost:8080/"
        },
        "id": "ZaaGSN4AJ728",
        "outputId": "c8a5db54-0427-4e2a-9de8-4db4c1b72529"
      },
      "execution_count": 94,
      "outputs": [
        {
          "output_type": "stream",
          "name": "stdout",
          "text": [
            "OOP\n",
            "Completed\n"
          ]
        }
      ]
    },
    {
      "cell_type": "code",
      "source": [
        "# Loop\n",
        "for var in 4:\n",
        "  "
      ],
      "metadata": {
        "id": "IZ882OmGMFRY"
      },
      "execution_count": null,
      "outputs": []
    }
  ]
}